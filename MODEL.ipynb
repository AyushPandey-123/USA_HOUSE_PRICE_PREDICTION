{
 "cells": [
  {
   "cell_type": "code",
   "execution_count": 2,
   "metadata": {},
   "outputs": [],
   "source": [
    "import pandas as pd\n",
    "import numpy as np\n",
    "from sklearn.model_selection import train_test_split, cross_val_score\n",
    "from sklearn.ensemble import RandomForestRegressor\n",
    "from sklearn.linear_model import RidgeCV\n",
    "from sklearn.metrics import mean_squared_error, r2_score"
   ]
  },
  {
   "cell_type": "code",
   "execution_count": 3,
   "metadata": {},
   "outputs": [],
   "source": [
    "df = pd.read_csv('Final Dataset\\df_final.csv')"
   ]
  },
  {
   "cell_type": "code",
   "execution_count": 4,
   "metadata": {},
   "outputs": [
    {
     "data": {
      "text/html": [
       "<div>\n",
       "<style scoped>\n",
       "    .dataframe tbody tr th:only-of-type {\n",
       "        vertical-align: middle;\n",
       "    }\n",
       "\n",
       "    .dataframe tbody tr th {\n",
       "        vertical-align: top;\n",
       "    }\n",
       "\n",
       "    .dataframe thead th {\n",
       "        text-align: right;\n",
       "    }\n",
       "</style>\n",
       "<table border=\"1\" class=\"dataframe\">\n",
       "  <thead>\n",
       "    <tr style=\"text-align: right;\">\n",
       "      <th></th>\n",
       "      <th>DATE</th>\n",
       "      <th>All_Employees</th>\n",
       "      <th>Permit</th>\n",
       "      <th>Cement_Price</th>\n",
       "      <th>Brick_Price</th>\n",
       "      <th>Total_Construction_Employees</th>\n",
       "      <th>Em_Ratio</th>\n",
       "      <th>GDP</th>\n",
       "      <th>Home_ownership_rate</th>\n",
       "      <th>INCOME</th>\n",
       "      <th>Industrial_Cement_Concrete_Manufactured</th>\n",
       "      <th>Labour_Population</th>\n",
       "      <th>Median_Sales_Prices</th>\n",
       "      <th>Mortgage_Rate</th>\n",
       "      <th>Monthly_House_Supply</th>\n",
       "      <th>New_Housing_Under_Construction</th>\n",
       "      <th>New_Private_Housing</th>\n",
       "      <th>Personal_Saving_Rate</th>\n",
       "      <th>HOME_PRICE</th>\n",
       "      <th>Unemployment_Rate</th>\n",
       "    </tr>\n",
       "  </thead>\n",
       "  <tbody>\n",
       "    <tr>\n",
       "      <th>0</th>\n",
       "      <td>1987-01-01</td>\n",
       "      <td>5007.0</td>\n",
       "      <td>1690.0</td>\n",
       "      <td>100.1</td>\n",
       "      <td>4.694096</td>\n",
       "      <td>722.3</td>\n",
       "      <td>61.0</td>\n",
       "      <td>4722.156</td>\n",
       "      <td>63.8</td>\n",
       "      <td>3820.2</td>\n",
       "      <td>123.7373</td>\n",
       "      <td>65.4</td>\n",
       "      <td>97900.0</td>\n",
       "      <td>9.2040</td>\n",
       "      <td>6.0</td>\n",
       "      <td>1090.0</td>\n",
       "      <td>1774.0</td>\n",
       "      <td>9.4</td>\n",
       "      <td>127.930</td>\n",
       "      <td>6.6</td>\n",
       "    </tr>\n",
       "    <tr>\n",
       "      <th>1</th>\n",
       "      <td>1987-02-01</td>\n",
       "      <td>5038.0</td>\n",
       "      <td>1689.0</td>\n",
       "      <td>100.8</td>\n",
       "      <td>4.694096</td>\n",
       "      <td>724.2</td>\n",
       "      <td>61.1</td>\n",
       "      <td>4722.156</td>\n",
       "      <td>63.8</td>\n",
       "      <td>3845.0</td>\n",
       "      <td>123.1670</td>\n",
       "      <td>65.5</td>\n",
       "      <td>97900.0</td>\n",
       "      <td>9.0825</td>\n",
       "      <td>6.2</td>\n",
       "      <td>1096.0</td>\n",
       "      <td>1784.0</td>\n",
       "      <td>8.2</td>\n",
       "      <td>128.848</td>\n",
       "      <td>6.6</td>\n",
       "    </tr>\n",
       "    <tr>\n",
       "      <th>2</th>\n",
       "      <td>1987-03-01</td>\n",
       "      <td>5039.0</td>\n",
       "      <td>1704.0</td>\n",
       "      <td>101.2</td>\n",
       "      <td>4.694096</td>\n",
       "      <td>727.9</td>\n",
       "      <td>61.2</td>\n",
       "      <td>4722.156</td>\n",
       "      <td>63.8</td>\n",
       "      <td>3863.8</td>\n",
       "      <td>122.5706</td>\n",
       "      <td>65.5</td>\n",
       "      <td>97900.0</td>\n",
       "      <td>9.0350</td>\n",
       "      <td>6.0</td>\n",
       "      <td>1084.0</td>\n",
       "      <td>1726.0</td>\n",
       "      <td>8.1</td>\n",
       "      <td>129.472</td>\n",
       "      <td>6.6</td>\n",
       "    </tr>\n",
       "    <tr>\n",
       "      <th>3</th>\n",
       "      <td>1987-04-01</td>\n",
       "      <td>5053.0</td>\n",
       "      <td>1601.0</td>\n",
       "      <td>100.8</td>\n",
       "      <td>4.694096</td>\n",
       "      <td>728.1</td>\n",
       "      <td>61.3</td>\n",
       "      <td>4806.160</td>\n",
       "      <td>63.8</td>\n",
       "      <td>3875.4</td>\n",
       "      <td>123.5345</td>\n",
       "      <td>65.4</td>\n",
       "      <td>103400.0</td>\n",
       "      <td>9.8325</td>\n",
       "      <td>6.0</td>\n",
       "      <td>1079.0</td>\n",
       "      <td>1614.0</td>\n",
       "      <td>4.1</td>\n",
       "      <td>130.264</td>\n",
       "      <td>6.3</td>\n",
       "    </tr>\n",
       "    <tr>\n",
       "      <th>4</th>\n",
       "      <td>1987-05-01</td>\n",
       "      <td>5080.0</td>\n",
       "      <td>1500.0</td>\n",
       "      <td>101.2</td>\n",
       "      <td>4.688592</td>\n",
       "      <td>727.6</td>\n",
       "      <td>61.6</td>\n",
       "      <td>4806.160</td>\n",
       "      <td>63.8</td>\n",
       "      <td>3908.6</td>\n",
       "      <td>123.8454</td>\n",
       "      <td>65.7</td>\n",
       "      <td>103400.0</td>\n",
       "      <td>10.5960</td>\n",
       "      <td>6.7</td>\n",
       "      <td>1070.0</td>\n",
       "      <td>1628.0</td>\n",
       "      <td>7.8</td>\n",
       "      <td>131.126</td>\n",
       "      <td>6.3</td>\n",
       "    </tr>\n",
       "  </tbody>\n",
       "</table>\n",
       "</div>"
      ],
      "text/plain": [
       "         DATE  All_Employees  Permit  Cement_Price  Brick_Price  \\\n",
       "0  1987-01-01         5007.0  1690.0         100.1     4.694096   \n",
       "1  1987-02-01         5038.0  1689.0         100.8     4.694096   \n",
       "2  1987-03-01         5039.0  1704.0         101.2     4.694096   \n",
       "3  1987-04-01         5053.0  1601.0         100.8     4.694096   \n",
       "4  1987-05-01         5080.0  1500.0         101.2     4.688592   \n",
       "\n",
       "   Total_Construction_Employees  Em_Ratio       GDP  Home_ownership_rate  \\\n",
       "0                         722.3      61.0  4722.156                 63.8   \n",
       "1                         724.2      61.1  4722.156                 63.8   \n",
       "2                         727.9      61.2  4722.156                 63.8   \n",
       "3                         728.1      61.3  4806.160                 63.8   \n",
       "4                         727.6      61.6  4806.160                 63.8   \n",
       "\n",
       "   INCOME  Industrial_Cement_Concrete_Manufactured  Labour_Population  \\\n",
       "0  3820.2                                 123.7373               65.4   \n",
       "1  3845.0                                 123.1670               65.5   \n",
       "2  3863.8                                 122.5706               65.5   \n",
       "3  3875.4                                 123.5345               65.4   \n",
       "4  3908.6                                 123.8454               65.7   \n",
       "\n",
       "   Median_Sales_Prices  Mortgage_Rate  Monthly_House_Supply  \\\n",
       "0              97900.0         9.2040                   6.0   \n",
       "1              97900.0         9.0825                   6.2   \n",
       "2              97900.0         9.0350                   6.0   \n",
       "3             103400.0         9.8325                   6.0   \n",
       "4             103400.0        10.5960                   6.7   \n",
       "\n",
       "   New_Housing_Under_Construction  New_Private_Housing  Personal_Saving_Rate  \\\n",
       "0                          1090.0               1774.0                   9.4   \n",
       "1                          1096.0               1784.0                   8.2   \n",
       "2                          1084.0               1726.0                   8.1   \n",
       "3                          1079.0               1614.0                   4.1   \n",
       "4                          1070.0               1628.0                   7.8   \n",
       "\n",
       "   HOME_PRICE  Unemployment_Rate  \n",
       "0     127.930                6.6  \n",
       "1     128.848                6.6  \n",
       "2     129.472                6.6  \n",
       "3     130.264                6.3  \n",
       "4     131.126                6.3  "
      ]
     },
     "execution_count": 4,
     "metadata": {},
     "output_type": "execute_result"
    }
   ],
   "source": [
    "df.head(5)"
   ]
  },
  {
   "cell_type": "code",
   "execution_count": 5,
   "metadata": {},
   "outputs": [
    {
     "data": {
      "text/plain": [
       "(439, 20)"
      ]
     },
     "execution_count": 5,
     "metadata": {},
     "output_type": "execute_result"
    }
   ],
   "source": [
    "df.shape"
   ]
  },
  {
   "cell_type": "markdown",
   "metadata": {},
   "source": [
    "#### Train Test Split & Scaling"
   ]
  },
  {
   "cell_type": "code",
   "execution_count": 6,
   "metadata": {},
   "outputs": [],
   "source": [
    "X = df.drop(['DATE','HOME_PRICE'],axis=1)\n",
    "y = df['HOME_PRICE']"
   ]
  },
  {
   "cell_type": "code",
   "execution_count": 7,
   "metadata": {},
   "outputs": [],
   "source": [
    "X_train, X_test, y_train, y_test = train_test_split(X, y, test_size=0.2, random_state=42)"
   ]
  },
  {
   "cell_type": "code",
   "execution_count": 8,
   "metadata": {},
   "outputs": [],
   "source": [
    "from sklearn.preprocessing import StandardScaler\n",
    "\n",
    "scaler = StandardScaler()\n",
    "X_train = scaler.fit_transform(X_train)\n",
    "X_test = scaler.transform(X_test)   "
   ]
  },
  {
   "cell_type": "markdown",
   "metadata": {},
   "source": [
    "#### Model"
   ]
  },
  {
   "cell_type": "code",
   "execution_count": 9,
   "metadata": {},
   "outputs": [],
   "source": [
    "RidgeCV_Model = RidgeCV(alphas=np.logspace(-10, 10, 100),cv=5)\n",
    "\n",
    "RidgeCV_Model.fit(X_train, y_train)\n",
    "\n",
    "y_pred = RidgeCV_Model.predict(X_test)"
   ]
  },
  {
   "cell_type": "code",
   "execution_count": 10,
   "metadata": {},
   "outputs": [
    {
     "name": "stdout",
     "output_type": "stream",
     "text": [
      "Optimal Alpha: 0.19630406500402683\n",
      "Mean Squared Error (MSE): 44.74\n",
      "RMSE: 6.688831\n",
      "R-squared (R2): 1.00\n"
     ]
    }
   ],
   "source": [
    "optimal_alpha = RidgeCV_Model.alpha_\n",
    "\n",
    "mse = mean_squared_error(y_test, y_pred)\n",
    "\n",
    "rmse = np.sqrt(mse)\n",
    "\n",
    "r2 = r2_score(y_test, y_pred)\n",
    "\n",
    "print(f\"Optimal Alpha: {optimal_alpha}\")\n",
    "print(f\"Mean Squared Error (MSE): {mse:.2f}\")\n",
    "print(f\"RMSE: {rmse:2f}\")\n",
    "print(f\"R-squared (R2): {r2:.2f}\")\n",
    "     "
   ]
  },
  {
   "cell_type": "markdown",
   "metadata": {},
   "source": [
    "#### Cross Validation"
   ]
  },
  {
   "cell_type": "code",
   "execution_count": 11,
   "metadata": {},
   "outputs": [
    {
     "name": "stdout",
     "output_type": "stream",
     "text": [
      "Cross-Validation R-squared Scores:\n",
      "[ 5.20356878  0.10655593 -0.13481523  0.24500238 -0.31825866]\n"
     ]
    }
   ],
   "source": [
    "cv_scores = cross_val_score(RidgeCV_Model, X, y, cv=5, scoring='r2')\n",
    "cv_scores = -cv_scores\n",
    "print(\"Cross-Validation R-squared Scores:\")\n",
    "print(cv_scores)"
   ]
  },
  {
   "cell_type": "code",
   "execution_count": 12,
   "metadata": {},
   "outputs": [
    {
     "name": "stdout",
     "output_type": "stream",
     "text": [
      "Mean R-squared: 1.0204\n",
      "Standard Deviation of R-squared: 2.1006\n"
     ]
    }
   ],
   "source": [
    "mean_r2 = cv_scores.mean()\n",
    "std_r2 = cv_scores.std()\n",
    "\n",
    "print(f\"Mean R-squared: {mean_r2:.4f}\")\n",
    "print(f\"Standard Deviation of R-squared: {std_r2:.4f}\")"
   ]
  },
  {
   "cell_type": "code",
   "execution_count": 13,
   "metadata": {},
   "outputs": [
    {
     "name": "stdout",
     "output_type": "stream",
     "text": [
      "0.668883087586164\n",
      "28.228757630979505\n"
     ]
    }
   ],
   "source": [
    "print(0.1 * rmse)\n",
    "print(0.1 * df['HOME_PRICE'].mean()) "
   ]
  },
  {
   "cell_type": "code",
   "execution_count": 14,
   "metadata": {},
   "outputs": [],
   "source": [
    "coefficients = RidgeCV_Model.coef_\n",
    "feature_names = X.columns\n",
    "\n",
    "feature_importance = pd.Series(coefficients, index=feature_names).sort_values(ascending=False)"
   ]
  },
  {
   "cell_type": "code",
   "execution_count": 15,
   "metadata": {},
   "outputs": [
    {
     "data": {
      "text/plain": [
       "Median_Sales_Prices                        48.076776\n",
       "GDP                                        46.237680\n",
       "Brick_Price                                40.683563\n",
       "Total_Construction_Employees               35.867685\n",
       "New_Housing_Under_Construction             19.840906\n",
       "Labour_Population                          18.720886\n",
       "Unemployment_Rate                           9.965723\n",
       "Monthly_House_Supply                        5.604514\n",
       "INCOME                                      4.916158\n",
       "Industrial_Cement_Concrete_Manufactured     2.425030\n",
       "New_Private_Housing                         0.261743\n",
       "Personal_Saving_Rate                       -0.852652\n",
       "Mortgage_Rate                              -2.372359\n",
       "Home_ownership_rate                        -2.406462\n",
       "Permit                                     -4.136587\n",
       "Em_Ratio                                   -6.553593\n",
       "Cement_Price                              -19.536404\n",
       "All_Employees                             -22.245074\n",
       "dtype: float64"
      ]
     },
     "execution_count": 15,
     "metadata": {},
     "output_type": "execute_result"
    }
   ],
   "source": [
    "feature_importance"
   ]
  },
  {
   "cell_type": "markdown",
   "metadata": {},
   "source": [
    "#### Final Observations"
   ]
  },
  {
   "cell_type": "code",
   "execution_count": 16,
   "metadata": {},
   "outputs": [
    {
     "data": {
      "image/png": "[encoded data removed]",
      "text/plain": [
       "<Figure size 800x600 with 1 Axes>"
      ]
     },
     "metadata": {},
     "output_type": "display_data"
    }
   ],
   "source": [
    "import numpy as np\n",
    "import matplotlib.pyplot as plt\n",
    "\n",
    "plt.figure(figsize=(8, 6))\n",
    "plt.scatter(y_test, y_pred, alpha=0.5)\n",
    "plt.xlabel(\"Observed Values\")\n",
    "plt.ylabel(\"Predicted Values\")\n",
    "plt.title(\"Predicted vs. Observed Values\")\n",
    "plt.grid(True)\n",
    "\n",
    "# Add a diagonal line for reference (perfect predictions)\n",
    "x = np.linspace(min(y_test), max(y_test), 100)\n",
    "plt.plot(x, x, color='red', linestyle='--')\n",
    "\n",
    "plt.show()"
   ]
  },
  {
   "cell_type": "markdown",
   "metadata": {},
   "source": [
    "#### Saving the Model"
   ]
  },
  {
   "cell_type": "code",
   "execution_count": 17,
   "metadata": {},
   "outputs": [],
   "source": [
    "import pickle as pkl"
   ]
  },
  {
   "cell_type": "code",
   "execution_count": 18,
   "metadata": {},
   "outputs": [],
   "source": [
    "with open('RidgeCV.pkl','wb') as file:\n",
    "    pkl.dump(RidgeCV_Model,file)"
   ]
  }
 ],
 "metadata": {
  "kernelspec": {
   "display_name": ".venv",
   "language": "python",
   "name": "python3"
  },
  "language_info": {
   "codemirror_mode": {
    "name": "ipython",
    "version": 3
   },
   "file_extension": ".py",
   "mimetype": "text/x-python",
   "name": "python",
   "nbconvert_exporter": "python",
   "pygments_lexer": "ipython3",
   "version": "3.9.5"
  }
 },
 "nbformat": 4,
 "nbformat_minor": 2
}
